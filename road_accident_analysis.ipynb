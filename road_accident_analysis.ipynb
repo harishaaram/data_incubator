{
 "cells": [
  {
   "cell_type": "code",
   "execution_count": 1,
   "metadata": {
    "collapsed": true
   },
   "outputs": [],
   "source": [
    "import pandas as pd\n",
    "import os\n",
    "os.chdir('/home/harish/PycharmProjects/data_incubator/Stats19_Data_2005-2014')"
   ]
  },
  {
   "cell_type": "code",
   "execution_count": 2,
   "metadata": {},
   "outputs": [
    {
     "data": {
      "text/plain": [
       "'/home/harish/anaconda2/bin:/home/harish/anaconda2/bin:/home/harish/bin:/home/harish/.local/bin:/usr/local/sbin:/usr/local/bin:/usr/sbin:/usr/bin:/sbin:/bin:/usr/games:/usr/local/games:/snap/bin'"
      ]
     },
     "execution_count": 2,
     "metadata": {},
     "output_type": "execute_result"
    }
   ],
   "source": [
    "os.environ['PATH']"
   ]
  },
  {
   "cell_type": "code",
   "execution_count": 2,
   "metadata": {},
   "outputs": [
    {
     "data": {
      "text/plain": [
       "['Introduction',\n",
       " 'Export Variables',\n",
       " 'Police Force',\n",
       " 'Accident Severity',\n",
       " 'Day of Week',\n",
       " 'Local Authority (District)',\n",
       " 'Local Authority (Highway)',\n",
       " '1st Road Class',\n",
       " 'Road Type',\n",
       " 'Junction Detail',\n",
       " 'Junction Control',\n",
       " '2nd Road Class',\n",
       " 'Ped Cross - Human',\n",
       " 'Ped Cross - Physical',\n",
       " 'Light Conditions',\n",
       " 'Weather',\n",
       " 'Road Surface',\n",
       " 'Special Conditions at Site',\n",
       " 'Carriageway Hazards',\n",
       " 'Urban Rural',\n",
       " 'Police Officer Attend',\n",
       " 'Vehicle Type',\n",
       " 'Towing and Articulation',\n",
       " 'Vehicle Manoeuvre',\n",
       " 'Vehicle Location',\n",
       " 'Junction Location',\n",
       " 'Skidding and Overturning',\n",
       " 'Hit Object in Carriageway',\n",
       " 'Veh Leaving Carriageway',\n",
       " 'Hit Object Off Carriageway',\n",
       " '1st Point of Impact',\n",
       " 'Was Vehicle Left Hand Drive',\n",
       " 'Journey Purpose',\n",
       " 'Sex of Driver',\n",
       " 'Age Band',\n",
       " 'Vehicle Propulsion Code',\n",
       " 'Casualty Class',\n",
       " 'Sex of Casualty',\n",
       " 'Age of Casualty',\n",
       " 'Casualty Severity',\n",
       " 'Ped Location',\n",
       " 'Ped Movement',\n",
       " 'Car Passenger',\n",
       " 'Bus Passenger',\n",
       " 'Ped Road Maintenance Worker',\n",
       " 'Casualty Type',\n",
       " 'IMD Decile',\n",
       " 'Home Area Type']"
      ]
     },
     "execution_count": 2,
     "metadata": {},
     "output_type": "execute_result"
    }
   ],
   "source": [
    "# GUIDELINES OF LABEL:\n",
    "label_guidline_df = pd.ExcelFile('Road-Accident-Safety-Data-Guide.xls')\n",
    "label_guidline_df.sheet_names"
   ]
  },
  {
   "cell_type": "code",
   "execution_count": 3,
   "metadata": {},
   "outputs": [
    {
     "data": {
      "text/html": [
       "<div>\n",
       "<table border=\"1\" class=\"dataframe\">\n",
       "  <thead>\n",
       "    <tr style=\"text-align: right;\">\n",
       "      <th></th>\n",
       "      <th>code</th>\n",
       "      <th>label</th>\n",
       "    </tr>\n",
       "  </thead>\n",
       "  <tbody>\n",
       "    <tr>\n",
       "      <th>0</th>\n",
       "      <td>1</td>\n",
       "      <td>Urban area</td>\n",
       "    </tr>\n",
       "    <tr>\n",
       "      <th>1</th>\n",
       "      <td>2</td>\n",
       "      <td>Small town</td>\n",
       "    </tr>\n",
       "    <tr>\n",
       "      <th>2</th>\n",
       "      <td>3</td>\n",
       "      <td>Rural</td>\n",
       "    </tr>\n",
       "    <tr>\n",
       "      <th>3</th>\n",
       "      <td>-1</td>\n",
       "      <td>Data missing or out of range</td>\n",
       "    </tr>\n",
       "  </tbody>\n",
       "</table>\n",
       "</div>"
      ],
      "text/plain": [
       "   code                         label\n",
       "0     1                    Urban area\n",
       "1     2                    Small town\n",
       "2     3                         Rural\n",
       "3    -1  Data missing or out of range"
      ]
     },
     "execution_count": 3,
     "metadata": {},
     "output_type": "execute_result"
    }
   ],
   "source": [
    "#getting the code for urban\n",
    "label_guidline_df.parse(sheetname='Home Area Type')"
   ]
  },
  {
   "cell_type": "code",
   "execution_count": 4,
   "metadata": {
    "scrolled": true
   },
   "outputs": [
    {
     "name": "stderr",
     "output_type": "stream",
     "text": [
      "/usr/local/lib/python3.5/dist-packages/IPython/core/interactiveshell.py:2717: DtypeWarning: Columns (31) have mixed types. Specify dtype option on import or set low_memory=False.\n",
      "  interactivity=interactivity, compiler=compiler, result=result)\n"
     ]
    },
    {
     "data": {
      "text/plain": [
       "Index(['Accident_Index', 'Location_Easting_OSGR', 'Location_Northing_OSGR',\n",
       "       'Longitude', 'Latitude', 'Police_Force', 'Accident_Severity',\n",
       "       'Number_of_Vehicles', 'Number_of_Casualties', 'Date', 'Day_of_Week',\n",
       "       'Time', 'Local_Authority_(District)', 'Local_Authority_(Highway)',\n",
       "       '1st_Road_Class', '1st_Road_Number', 'Road_Type', 'Speed_limit',\n",
       "       'Junction_Detail', 'Junction_Control', '2nd_Road_Class',\n",
       "       '2nd_Road_Number', 'Pedestrian_Crossing-Human_Control',\n",
       "       'Pedestrian_Crossing-Physical_Facilities', 'Light_Conditions',\n",
       "       'Weather_Conditions', 'Road_Surface_Conditions',\n",
       "       'Special_Conditions_at_Site', 'Carriageway_Hazards',\n",
       "       'Urban_or_Rural_Area', 'Did_Police_Officer_Attend_Scene_of_Accident',\n",
       "       'LSOA_of_Accident_Location'],\n",
       "      dtype='object')"
      ]
     },
     "execution_count": 4,
     "metadata": {},
     "output_type": "execute_result"
    }
   ],
   "source": [
    "acc_df = pd.read_csv('Accidents0514.csv')\n",
    "acc_df.columns"
   ]
  },
  {
   "cell_type": "code",
   "execution_count": 5,
   "metadata": {},
   "outputs": [
    {
     "data": {
      "text/plain": [
       "Accident_Index                                      0\n",
       "Location_Easting_OSGR                             111\n",
       "Location_Northing_OSGR                            111\n",
       "Longitude                                         111\n",
       "Latitude                                          111\n",
       "Police_Force                                        0\n",
       "Accident_Severity                                   0\n",
       "Number_of_Vehicles                                  0\n",
       "Number_of_Casualties                                0\n",
       "Date                                                0\n",
       "Day_of_Week                                         0\n",
       "Time                                              133\n",
       "Local_Authority_(District)                          0\n",
       "Local_Authority_(Highway)                           0\n",
       "1st_Road_Class                                      0\n",
       "1st_Road_Number                                     0\n",
       "Road_Type                                           0\n",
       "Speed_limit                                         0\n",
       "Junction_Detail                                     0\n",
       "Junction_Control                                    0\n",
       "2nd_Road_Class                                      0\n",
       "2nd_Road_Number                                     0\n",
       "Pedestrian_Crossing-Human_Control                   0\n",
       "Pedestrian_Crossing-Physical_Facilities             0\n",
       "Light_Conditions                                    0\n",
       "Weather_Conditions                                  0\n",
       "Road_Surface_Conditions                             0\n",
       "Special_Conditions_at_Site                          0\n",
       "Carriageway_Hazards                                 0\n",
       "Urban_or_Rural_Area                                 0\n",
       "Did_Police_Officer_Attend_Scene_of_Accident         0\n",
       "LSOA_of_Accident_Location                      120574\n",
       "dtype: int64"
      ]
     },
     "execution_count": 5,
     "metadata": {},
     "output_type": "execute_result"
    }
   ],
   "source": [
    "acc_df.isnull().values.any()\n",
    "acc_df.isnull().sum()"
   ]
  },
  {
   "cell_type": "code",
   "execution_count": 6,
   "metadata": {},
   "outputs": [
    {
     "data": {
      "text/plain": [
       "(1640597, 32)"
      ]
     },
     "execution_count": 6,
     "metadata": {},
     "output_type": "execute_result"
    }
   ],
   "source": [
    "acc_df.shape"
   ]
  },
  {
   "cell_type": "code",
   "execution_count": 7,
   "metadata": {},
   "outputs": [
    {
     "data": {
      "text/plain": [
       "Index(['Accident_Index', 'Vehicle_Reference', 'Casualty_Reference',\n",
       "       'Casualty_Class', 'Sex_of_Casualty', 'Age_of_Casualty',\n",
       "       'Age_Band_of_Casualty', 'Casualty_Severity', 'Pedestrian_Location',\n",
       "       'Pedestrian_Movement', 'Car_Passenger', 'Bus_or_Coach_Passenger',\n",
       "       'Pedestrian_Road_Maintenance_Worker', 'Casualty_Type',\n",
       "       'Casualty_Home_Area_Type'],\n",
       "      dtype='object')"
      ]
     },
     "execution_count": 7,
     "metadata": {},
     "output_type": "execute_result"
    }
   ],
   "source": [
    "cau_df = pd.read_csv('Casualties0514.csv')\n",
    "cau_df.columns"
   ]
  },
  {
   "cell_type": "code",
   "execution_count": 8,
   "metadata": {},
   "outputs": [
    {
     "data": {
      "text/plain": [
       "Index(['Accident_Index', 'Vehicle_Reference', 'Vehicle_Type',\n",
       "       'Towing_and_Articulation', 'Vehicle_Manoeuvre',\n",
       "       'Vehicle_Location-Restricted_Lane', 'Junction_Location',\n",
       "       'Skidding_and_Overturning', 'Hit_Object_in_Carriageway',\n",
       "       'Vehicle_Leaving_Carriageway', 'Hit_Object_off_Carriageway',\n",
       "       '1st_Point_of_Impact', 'Was_Vehicle_Left_Hand_Drive?',\n",
       "       'Journey_Purpose_of_Driver', 'Sex_of_Driver', 'Age_of_Driver',\n",
       "       'Age_Band_of_Driver', 'Engine_Capacity_(CC)', 'Propulsion_Code',\n",
       "       'Age_of_Vehicle', 'Driver_IMD_Decile', 'Driver_Home_Area_Type'],\n",
       "      dtype='object')"
      ]
     },
     "execution_count": 8,
     "metadata": {},
     "output_type": "execute_result"
    }
   ],
   "source": [
    "veh_df = pd.read_csv('Vehicles0514.csv')\n",
    "veh_df.columns"
   ]
  },
  {
   "cell_type": "markdown",
   "metadata": {},
   "source": [
    "## QUESTION 1:"
   ]
  },
  {
   "cell_type": "code",
   "execution_count": 9,
   "metadata": {
    "collapsed": true
   },
   "outputs": [],
   "source": [
    "#q: What fraction of accidents occur in urban areas?"
   ]
  },
  {
   "cell_type": "code",
   "execution_count": 10,
   "metadata": {},
   "outputs": [
    {
     "data": {
      "text/plain": [
       "Accident_Index                                 1054341\n",
       "Location_Easting_OSGR                          1054341\n",
       "Location_Northing_OSGR                         1054341\n",
       "Longitude                                      1054341\n",
       "Latitude                                       1054341\n",
       "Police_Force                                   1054341\n",
       "Accident_Severity                              1054341\n",
       "Number_of_Vehicles                             1054341\n",
       "Number_of_Casualties                           1054341\n",
       "Date                                           1054341\n",
       "Day_of_Week                                    1054341\n",
       "Time                                           1054272\n",
       "Local_Authority_(District)                     1054341\n",
       "Local_Authority_(Highway)                      1054341\n",
       "1st_Road_Class                                 1054341\n",
       "1st_Road_Number                                1054341\n",
       "Road_Type                                      1054341\n",
       "Speed_limit                                    1054341\n",
       "Junction_Detail                                1054341\n",
       "Junction_Control                               1054341\n",
       "2nd_Road_Class                                 1054341\n",
       "2nd_Road_Number                                1054341\n",
       "Pedestrian_Crossing-Human_Control              1054341\n",
       "Pedestrian_Crossing-Physical_Facilities        1054341\n",
       "Light_Conditions                               1054341\n",
       "Weather_Conditions                             1054341\n",
       "Road_Surface_Conditions                        1054341\n",
       "Special_Conditions_at_Site                     1054341\n",
       "Carriageway_Hazards                            1054341\n",
       "Urban_or_Rural_Area                            1054341\n",
       "Did_Police_Officer_Attend_Scene_of_Accident    1054341\n",
       "LSOA_of_Accident_Location                       988052\n",
       "dtype: int64"
      ]
     },
     "execution_count": 10,
     "metadata": {},
     "output_type": "execute_result"
    }
   ],
   "source": [
    "acc_df['Urban_or_Rural_Area']\n",
    "acc_df.Urban_or_Rural_Area.unique()#unique values in a column\n",
    "#586113#1054341#143\n",
    "acc_df[acc_df['Urban_or_Rural_Area'] == 1].count()"
   ]
  },
  {
   "cell_type": "code",
   "execution_count": 11,
   "metadata": {},
   "outputs": [
    {
     "data": {
      "text/plain": [
       "Accident_Index                                 0.642657\n",
       "Location_Easting_OSGR                          0.642657\n",
       "Location_Northing_OSGR                         0.642657\n",
       "Longitude                                      0.642657\n",
       "Latitude                                       0.642657\n",
       "Police_Force                                   0.642657\n",
       "Accident_Severity                              0.642657\n",
       "Number_of_Vehicles                             0.642657\n",
       "Number_of_Casualties                           0.642657\n",
       "Date                                           0.642657\n",
       "Day_of_Week                                    0.642657\n",
       "Time                                           0.642615\n",
       "Local_Authority_(District)                     0.642657\n",
       "Local_Authority_(Highway)                      0.642657\n",
       "1st_Road_Class                                 0.642657\n",
       "1st_Road_Number                                0.642657\n",
       "Road_Type                                      0.642657\n",
       "Speed_limit                                    0.642657\n",
       "Junction_Detail                                0.642657\n",
       "Junction_Control                               0.642657\n",
       "2nd_Road_Class                                 0.642657\n",
       "2nd_Road_Number                                0.642657\n",
       "Pedestrian_Crossing-Human_Control              0.642657\n",
       "Pedestrian_Crossing-Physical_Facilities        0.642657\n",
       "Light_Conditions                               0.642657\n",
       "Weather_Conditions                             0.642657\n",
       "Road_Surface_Conditions                        0.642657\n",
       "Special_Conditions_at_Site                     0.642657\n",
       "Carriageway_Hazards                            0.642657\n",
       "Urban_or_Rural_Area                            0.642657\n",
       "Did_Police_Officer_Attend_Scene_of_Accident    0.642657\n",
       "LSOA_of_Accident_Location                      0.602251\n",
       "dtype: float64"
      ]
     },
     "execution_count": 11,
     "metadata": {},
     "output_type": "execute_result"
    }
   ],
   "source": [
    "acc_df[acc_df['Urban_or_Rural_Area'] == 1].count()/acc_df.shape[0]"
   ]
  },
  {
   "cell_type": "code",
   "execution_count": 12,
   "metadata": {
    "collapsed": true
   },
   "outputs": [],
   "source": [
    "tot_urban_acc = acc_df['Urban_or_Rural_Area'][acc_df['Urban_or_Rural_Area'] == 1].count()"
   ]
  },
  {
   "cell_type": "code",
   "execution_count": 13,
   "metadata": {},
   "outputs": [
    {
     "data": {
      "text/plain": [
       "'0.6426569109'"
      ]
     },
     "execution_count": 13,
     "metadata": {},
     "output_type": "execute_result"
    }
   ],
   "source": [
    "#ans:\n",
    "format(float(tot_urban_acc/acc_df.shape[0]), '.10f')"
   ]
  },
  {
   "cell_type": "markdown",
   "metadata": {},
   "source": [
    "## Question2:\n",
    "When is the most dangerous time to drive? Find the hour of the day that has the highest occurance of fatal accidents, normalized by the total number of accidents that occured in that hour. For your answer, submit the corresponding frequency of fatal accidents to all accidents in that hour. Note: round accident times down. For example, if an accident occured at 23:55 it occured in hour 23. "
   ]
  },
  {
   "cell_type": "code",
   "execution_count": 14,
   "metadata": {},
   "outputs": [
    {
     "data": {
      "text/plain": [
       "['Introduction',\n",
       " 'Export Variables',\n",
       " 'Police Force',\n",
       " 'Accident Severity',\n",
       " 'Day of Week',\n",
       " 'Local Authority (District)',\n",
       " 'Local Authority (Highway)',\n",
       " '1st Road Class',\n",
       " 'Road Type',\n",
       " 'Junction Detail',\n",
       " 'Junction Control',\n",
       " '2nd Road Class',\n",
       " 'Ped Cross - Human',\n",
       " 'Ped Cross - Physical',\n",
       " 'Light Conditions',\n",
       " 'Weather',\n",
       " 'Road Surface',\n",
       " 'Special Conditions at Site',\n",
       " 'Carriageway Hazards',\n",
       " 'Urban Rural',\n",
       " 'Police Officer Attend',\n",
       " 'Vehicle Type',\n",
       " 'Towing and Articulation',\n",
       " 'Vehicle Manoeuvre',\n",
       " 'Vehicle Location',\n",
       " 'Junction Location',\n",
       " 'Skidding and Overturning',\n",
       " 'Hit Object in Carriageway',\n",
       " 'Veh Leaving Carriageway',\n",
       " 'Hit Object Off Carriageway',\n",
       " '1st Point of Impact',\n",
       " 'Was Vehicle Left Hand Drive',\n",
       " 'Journey Purpose',\n",
       " 'Sex of Driver',\n",
       " 'Age Band',\n",
       " 'Vehicle Propulsion Code',\n",
       " 'Casualty Class',\n",
       " 'Sex of Casualty',\n",
       " 'Age of Casualty',\n",
       " 'Casualty Severity',\n",
       " 'Ped Location',\n",
       " 'Ped Movement',\n",
       " 'Car Passenger',\n",
       " 'Bus Passenger',\n",
       " 'Ped Road Maintenance Worker',\n",
       " 'Casualty Type',\n",
       " 'IMD Decile',\n",
       " 'Home Area Type']"
      ]
     },
     "execution_count": 14,
     "metadata": {},
     "output_type": "execute_result"
    }
   ],
   "source": [
    "#getting the code for urban\n",
    "label_guidline_df.sheet_names"
   ]
  },
  {
   "cell_type": "code",
   "execution_count": 15,
   "metadata": {},
   "outputs": [
    {
     "data": {
      "text/plain": [
       "Index(['Accident_Index', 'Location_Easting_OSGR', 'Location_Northing_OSGR',\n",
       "       'Longitude', 'Latitude', 'Police_Force', 'Accident_Severity',\n",
       "       'Number_of_Vehicles', 'Number_of_Casualties', 'Date', 'Day_of_Week',\n",
       "       'Time', 'Local_Authority_(District)', 'Local_Authority_(Highway)',\n",
       "       '1st_Road_Class', '1st_Road_Number', 'Road_Type', 'Speed_limit',\n",
       "       'Junction_Detail', 'Junction_Control', '2nd_Road_Class',\n",
       "       '2nd_Road_Number', 'Pedestrian_Crossing-Human_Control',\n",
       "       'Pedestrian_Crossing-Physical_Facilities', 'Light_Conditions',\n",
       "       'Weather_Conditions', 'Road_Surface_Conditions',\n",
       "       'Special_Conditions_at_Site', 'Carriageway_Hazards',\n",
       "       'Urban_or_Rural_Area', 'Did_Police_Officer_Attend_Scene_of_Accident',\n",
       "       'LSOA_of_Accident_Location'],\n",
       "      dtype='object')"
      ]
     },
     "execution_count": 15,
     "metadata": {},
     "output_type": "execute_result"
    }
   ],
   "source": [
    "acc_df.columns"
   ]
  },
  {
   "cell_type": "code",
   "execution_count": 16,
   "metadata": {},
   "outputs": [
    {
     "data": {
      "text/html": [
       "<div>\n",
       "<table border=\"1\" class=\"dataframe\">\n",
       "  <thead>\n",
       "    <tr style=\"text-align: right;\">\n",
       "      <th></th>\n",
       "      <th>code</th>\n",
       "      <th>label</th>\n",
       "    </tr>\n",
       "  </thead>\n",
       "  <tbody>\n",
       "    <tr>\n",
       "      <th>0</th>\n",
       "      <td>1</td>\n",
       "      <td>Fatal</td>\n",
       "    </tr>\n",
       "    <tr>\n",
       "      <th>1</th>\n",
       "      <td>2</td>\n",
       "      <td>Serious</td>\n",
       "    </tr>\n",
       "    <tr>\n",
       "      <th>2</th>\n",
       "      <td>3</td>\n",
       "      <td>Slight</td>\n",
       "    </tr>\n",
       "  </tbody>\n",
       "</table>\n",
       "</div>"
      ],
      "text/plain": [
       "   code    label\n",
       "0     1    Fatal\n",
       "1     2  Serious\n",
       "2     3   Slight"
      ]
     },
     "execution_count": 16,
     "metadata": {},
     "output_type": "execute_result"
    }
   ],
   "source": [
    "#getting the code for urban\n",
    "label_guidline_df.parse(sheetname='Accident Severity')"
   ]
  },
  {
   "cell_type": "code",
   "execution_count": 17,
   "metadata": {
    "scrolled": true
   },
   "outputs": [
    {
     "data": {
      "text/plain": [
       "Accident_Severity    1640597\n",
       "Time                 1640464\n",
       "dtype: int64"
      ]
     },
     "execution_count": 17,
     "metadata": {},
     "output_type": "execute_result"
    }
   ],
   "source": [
    "newdf = acc_df[['Accident_Severity','Time']]\n",
    "newdf.count()"
   ]
  },
  {
   "cell_type": "code",
   "execution_count": 18,
   "metadata": {},
   "outputs": [
    {
     "data": {
      "text/html": [
       "<div>\n",
       "<table border=\"1\" class=\"dataframe\">\n",
       "  <thead>\n",
       "    <tr style=\"text-align: right;\">\n",
       "      <th></th>\n",
       "      <th>Accident_Severity</th>\n",
       "      <th>Time</th>\n",
       "    </tr>\n",
       "  </thead>\n",
       "  <tbody>\n",
       "    <tr>\n",
       "      <th>0</th>\n",
       "      <td>2</td>\n",
       "      <td>17:42</td>\n",
       "    </tr>\n",
       "    <tr>\n",
       "      <th>1</th>\n",
       "      <td>3</td>\n",
       "      <td>17:36</td>\n",
       "    </tr>\n",
       "    <tr>\n",
       "      <th>2</th>\n",
       "      <td>3</td>\n",
       "      <td>00:15</td>\n",
       "    </tr>\n",
       "    <tr>\n",
       "      <th>3</th>\n",
       "      <td>3</td>\n",
       "      <td>10:35</td>\n",
       "    </tr>\n",
       "    <tr>\n",
       "      <th>4</th>\n",
       "      <td>3</td>\n",
       "      <td>21:13</td>\n",
       "    </tr>\n",
       "  </tbody>\n",
       "</table>\n",
       "</div>"
      ],
      "text/plain": [
       "   Accident_Severity   Time\n",
       "0                  2  17:42\n",
       "1                  3  17:36\n",
       "2                  3  00:15\n",
       "3                  3  10:35\n",
       "4                  3  21:13"
      ]
     },
     "execution_count": 18,
     "metadata": {},
     "output_type": "execute_result"
    }
   ],
   "source": [
    "newdf.head()"
   ]
  },
  {
   "cell_type": "code",
   "execution_count": 19,
   "metadata": {},
   "outputs": [
    {
     "data": {
      "text/plain": [
       "21381"
      ]
     },
     "execution_count": 19,
     "metadata": {},
     "output_type": "execute_result"
    }
   ],
   "source": [
    "# acc_df[acc_df['Accident_Severity'] == 1]['Time']\n",
    "acc_df[acc_df['Accident_Severity'] == 1]['Time'].count()"
   ]
  },
  {
   "cell_type": "code",
   "execution_count": 20,
   "metadata": {},
   "outputs": [
    {
     "data": {
      "text/plain": [
       "21382"
      ]
     },
     "execution_count": 20,
     "metadata": {},
     "output_type": "execute_result"
    }
   ],
   "source": [
    "d = acc_df[acc_df['Accident_Severity'] == 1]['Time']\n",
    "len(d)"
   ]
  },
  {
   "cell_type": "code",
   "execution_count": 21,
   "metadata": {},
   "outputs": [
    {
     "data": {
      "text/plain": [
       "1397065"
      ]
     },
     "execution_count": 21,
     "metadata": {},
     "output_type": "execute_result"
    }
   ],
   "source": [
    "acc_df[acc_df['Accident_Severity'] == 3]['Time'].count()"
   ]
  },
  {
   "cell_type": "code",
   "execution_count": 22,
   "metadata": {},
   "outputs": [
    {
     "data": {
      "text/plain": [
       "1397173"
      ]
     },
     "execution_count": 22,
     "metadata": {},
     "output_type": "execute_result"
    }
   ],
   "source": [
    "len(acc_df[acc_df['Accident_Severity'] == 3]['Time'])"
   ]
  },
  {
   "cell_type": "code",
   "execution_count": 23,
   "metadata": {},
   "outputs": [
    {
     "data": {
      "text/plain": [
       "1640464"
      ]
     },
     "execution_count": 23,
     "metadata": {},
     "output_type": "execute_result"
    }
   ],
   "source": [
    "21381+222018+1397065"
   ]
  },
  {
   "cell_type": "code",
   "execution_count": 24,
   "metadata": {},
   "outputs": [
    {
     "data": {
      "text/plain": [
       "Accident_Index                                      0\n",
       "Location_Easting_OSGR                             111\n",
       "Location_Northing_OSGR                            111\n",
       "Longitude                                         111\n",
       "Latitude                                          111\n",
       "Police_Force                                        0\n",
       "Accident_Severity                                   0\n",
       "Number_of_Vehicles                                  0\n",
       "Number_of_Casualties                                0\n",
       "Date                                                0\n",
       "Day_of_Week                                         0\n",
       "Time                                              133\n",
       "Local_Authority_(District)                          0\n",
       "Local_Authority_(Highway)                           0\n",
       "1st_Road_Class                                      0\n",
       "1st_Road_Number                                     0\n",
       "Road_Type                                           0\n",
       "Speed_limit                                         0\n",
       "Junction_Detail                                     0\n",
       "Junction_Control                                    0\n",
       "2nd_Road_Class                                      0\n",
       "2nd_Road_Number                                     0\n",
       "Pedestrian_Crossing-Human_Control                   0\n",
       "Pedestrian_Crossing-Physical_Facilities             0\n",
       "Light_Conditions                                    0\n",
       "Weather_Conditions                                  0\n",
       "Road_Surface_Conditions                             0\n",
       "Special_Conditions_at_Site                          0\n",
       "Carriageway_Hazards                                 0\n",
       "Urban_or_Rural_Area                                 0\n",
       "Did_Police_Officer_Attend_Scene_of_Accident         0\n",
       "LSOA_of_Accident_Location                      120574\n",
       "dtype: int64"
      ]
     },
     "execution_count": 24,
     "metadata": {},
     "output_type": "execute_result"
    }
   ],
   "source": [
    "#to check null value of time\n",
    "acc_df.isnull().sum()"
   ]
  },
  {
   "cell_type": "code",
   "execution_count": 25,
   "metadata": {},
   "outputs": [
    {
     "name": "stderr",
     "output_type": "stream",
     "text": [
      "/usr/local/lib/python3.5/dist-packages/ipykernel/__main__.py:2: UserWarning: Boolean Series key will be reindexed to match DataFrame index.\n",
      "  from ipykernel import kernelapp as app\n"
     ]
    },
    {
     "data": {
      "text/html": [
       "<div>\n",
       "<table border=\"1\" class=\"dataframe\">\n",
       "  <thead>\n",
       "    <tr style=\"text-align: right;\">\n",
       "      <th></th>\n",
       "      <th>Accident_Index</th>\n",
       "      <th>Location_Easting_OSGR</th>\n",
       "      <th>Location_Northing_OSGR</th>\n",
       "      <th>Longitude</th>\n",
       "      <th>Latitude</th>\n",
       "      <th>Police_Force</th>\n",
       "      <th>Accident_Severity</th>\n",
       "      <th>Number_of_Vehicles</th>\n",
       "      <th>Number_of_Casualties</th>\n",
       "      <th>Date</th>\n",
       "      <th>...</th>\n",
       "      <th>Pedestrian_Crossing-Human_Control</th>\n",
       "      <th>Pedestrian_Crossing-Physical_Facilities</th>\n",
       "      <th>Light_Conditions</th>\n",
       "      <th>Weather_Conditions</th>\n",
       "      <th>Road_Surface_Conditions</th>\n",
       "      <th>Special_Conditions_at_Site</th>\n",
       "      <th>Carriageway_Hazards</th>\n",
       "      <th>Urban_or_Rural_Area</th>\n",
       "      <th>Did_Police_Officer_Attend_Scene_of_Accident</th>\n",
       "      <th>LSOA_of_Accident_Location</th>\n",
       "    </tr>\n",
       "  </thead>\n",
       "  <tbody>\n",
       "    <tr>\n",
       "      <th>1486506</th>\n",
       "      <td>2013921303578</td>\n",
       "      <td>327435.0</td>\n",
       "      <td>845217.0</td>\n",
       "      <td>-3.212187</td>\n",
       "      <td>57.49142</td>\n",
       "      <td>92</td>\n",
       "      <td>1</td>\n",
       "      <td>2</td>\n",
       "      <td>1</td>\n",
       "      <td>28/09/2013</td>\n",
       "      <td>...</td>\n",
       "      <td>0</td>\n",
       "      <td>0</td>\n",
       "      <td>1</td>\n",
       "      <td>1</td>\n",
       "      <td>2</td>\n",
       "      <td>0</td>\n",
       "      <td>0</td>\n",
       "      <td>2</td>\n",
       "      <td>1</td>\n",
       "      <td>NaN</td>\n",
       "    </tr>\n",
       "  </tbody>\n",
       "</table>\n",
       "<p>1 rows × 32 columns</p>\n",
       "</div>"
      ],
      "text/plain": [
       "        Accident_Index  Location_Easting_OSGR  Location_Northing_OSGR  \\\n",
       "1486506  2013921303578               327435.0                845217.0   \n",
       "\n",
       "         Longitude  Latitude  Police_Force  Accident_Severity  \\\n",
       "1486506  -3.212187  57.49142            92                  1   \n",
       "\n",
       "         Number_of_Vehicles  Number_of_Casualties        Date  \\\n",
       "1486506                   2                     1  28/09/2013   \n",
       "\n",
       "                   ...              Pedestrian_Crossing-Human_Control  \\\n",
       "1486506            ...                                              0   \n",
       "\n",
       "        Pedestrian_Crossing-Physical_Facilities  Light_Conditions  \\\n",
       "1486506                                       0                 1   \n",
       "\n",
       "        Weather_Conditions  Road_Surface_Conditions  \\\n",
       "1486506                  1                        2   \n",
       "\n",
       "         Special_Conditions_at_Site  Carriageway_Hazards  Urban_or_Rural_Area  \\\n",
       "1486506                           0                    0                    2   \n",
       "\n",
       "         Did_Police_Officer_Attend_Scene_of_Accident  \\\n",
       "1486506                                            1   \n",
       "\n",
       "         LSOA_of_Accident_Location  \n",
       "1486506                        NaN  \n",
       "\n",
       "[1 rows x 32 columns]"
      ]
     },
     "execution_count": 25,
     "metadata": {},
     "output_type": "execute_result"
    }
   ],
   "source": [
    "#Finding Number null rows\n",
    "nan_rows = acc_df[acc_df['Accident_Severity'] == 1][acc_df['Time'].isnull()]\n",
    "nan_rows"
   ]
  },
  {
   "cell_type": "code",
   "execution_count": 26,
   "metadata": {},
   "outputs": [
    {
     "data": {
      "text/plain": [
       "Accident_Index                                 2013921303578\n",
       "Location_Easting_OSGR                                 327435\n",
       "Location_Northing_OSGR                                845217\n",
       "Longitude                                           -3.21219\n",
       "Latitude                                             57.4914\n",
       "Police_Force                                              92\n",
       "Accident_Severity                                          1\n",
       "Number_of_Vehicles                                         2\n",
       "Number_of_Casualties                                       1\n",
       "Date                                              28/09/2013\n",
       "Day_of_Week                                                7\n",
       "Time                                                     NaN\n",
       "Local_Authority_(District)                               930\n",
       "Local_Authority_(Highway)                          S12000020\n",
       "1st_Road_Class                                             4\n",
       "1st_Road_Number                                         9102\n",
       "Road_Type                                                  6\n",
       "Speed_limit                                               60\n",
       "Junction_Detail                                            0\n",
       "Junction_Control                                          -1\n",
       "2nd_Road_Class                                            -1\n",
       "2nd_Road_Number                                            0\n",
       "Pedestrian_Crossing-Human_Control                          0\n",
       "Pedestrian_Crossing-Physical_Facilities                    0\n",
       "Light_Conditions                                           1\n",
       "Weather_Conditions                                         1\n",
       "Road_Surface_Conditions                                    2\n",
       "Special_Conditions_at_Site                                 0\n",
       "Carriageway_Hazards                                        0\n",
       "Urban_or_Rural_Area                                        2\n",
       "Did_Police_Officer_Attend_Scene_of_Accident                1\n",
       "LSOA_of_Accident_Location                                NaN\n",
       "Name: 1486506, dtype: object"
      ]
     },
     "execution_count": 26,
     "metadata": {},
     "output_type": "execute_result"
    }
   ],
   "source": [
    "#fatal accident with time not registered\n",
    "acc_df.loc[1486506]"
   ]
  },
  {
   "cell_type": "code",
   "execution_count": 27,
   "metadata": {
    "collapsed": true
   },
   "outputs": [],
   "source": [
    "#ONLY hours value:\n",
    "#https://pandas.pydata.org/pandas-docs/stable/generated/pandas.Series.str.split.html\n",
    "#https://stackoverflow.com/questions/12504976/get-last-column-after-str-split-operation-on-column-in-pandas-dataframe\n",
    "alter_acc_df = acc_df\n",
    "alter_acc_df['time_HH'] = acc_df['Time'].str.split(':').str.get(0)\n"
   ]
  },
  {
   "cell_type": "code",
   "execution_count": 28,
   "metadata": {},
   "outputs": [
    {
     "data": {
      "text/plain": [
       "(1640597, 33)"
      ]
     },
     "execution_count": 28,
     "metadata": {},
     "output_type": "execute_result"
    }
   ],
   "source": [
    "alter_acc_df.shape"
   ]
  },
  {
   "cell_type": "code",
   "execution_count": 56,
   "metadata": {},
   "outputs": [
    {
     "data": {
      "text/plain": [
       "[('17', 145399),\n",
       " ('16', 132924),\n",
       " ('15', 126666),\n",
       " ('08', 120052),\n",
       " ('18', 113368),\n",
       " ('14', 99547),\n",
       " ('13', 99437),\n",
       " ('12', 97030),\n",
       " ('11', 85022),\n",
       " ('19', 84779),\n",
       " ('09', 81613),\n",
       " ('10', 74025),\n",
       " ('07', 68200),\n",
       " ('20', 62530),\n",
       " ('21', 50111),\n",
       " ('22', 43658),\n",
       " ('23', 34975),\n",
       " ('06', 28320),\n",
       " ('00', 25231),\n",
       " ('01', 18508),\n",
       " ('02', 14907),\n",
       " ('05', 13135),\n",
       " ('03', 11910),\n",
       " ('04', 9117)]"
      ]
     },
     "execution_count": 56,
     "metadata": {},
     "output_type": "execute_result"
    }
   ],
   "source": [
    "#https://stackoverflow.com/questions/36004976/count-frequency-of-values-in-pandas-dataframe-column\n",
    "dict_hh = alter_acc_df['time_HH'].value_counts().to_dict()\n",
    "sorted(dict_hh.items(), key=lambda x:x[1], reverse=True)"
   ]
  },
  {
   "cell_type": "code",
   "execution_count": 60,
   "metadata": {
    "collapsed": true
   },
   "outputs": [],
   "source": [
    "#finding the fatal accident on 17th hour\n",
    "only_fatal = len(alter_acc_df[(alter_acc_df['Accident_Severity']) == 1 & (alter_acc_df['time_HH']=='17')])\n",
    "all_acc = len(alter_acc_df[alter_acc_df['time_HH']=='17'])"
   ]
  },
  {
   "cell_type": "code",
   "execution_count": 61,
   "metadata": {},
   "outputs": [
    {
     "data": {
      "text/plain": [
       "'0.0100207017'"
      ]
     },
     "execution_count": 61,
     "metadata": {},
     "output_type": "execute_result"
    }
   ],
   "source": [
    "#ans:\n",
    "format(float(only_fatal/all_acc), '.10f')"
   ]
  },
  {
   "cell_type": "markdown",
   "metadata": {},
   "source": [
    "## QUESION 3\n",
    "There appears to be a linear trend in the number of accidents that occur each year. What is that trend? Return the slope in units of increased number of accidents per year. "
   ]
  },
  {
   "cell_type": "code",
   "execution_count": 31,
   "metadata": {},
   "outputs": [
    {
     "data": {
      "text/plain": [
       "2005    198735\n",
       "2006    189161\n",
       "2007    182115\n",
       "2008    170591\n",
       "2009    163554\n",
       "2010    154414\n",
       "2011    151474\n",
       "2014    146322\n",
       "2012    145571\n",
       "2013    138660\n",
       "Name: year, dtype: int64"
      ]
     },
     "execution_count": 31,
     "metadata": {},
     "output_type": "execute_result"
    }
   ],
   "source": [
    "alter_acc_df['year'] = alter_acc_df['Date'].str.split('/').str.get(2).astype('int')\n",
    "alter_acc_df['year'].value_counts()"
   ]
  },
  {
   "cell_type": "code",
   "execution_count": 32,
   "metadata": {
    "collapsed": true
   },
   "outputs": [],
   "source": [
    "trend_dict = alter_acc_df['year'].value_counts().to_dict()"
   ]
  },
  {
   "cell_type": "code",
   "execution_count": 33,
   "metadata": {},
   "outputs": [
    {
     "name": "stdout",
     "output_type": "stream",
     "text": [
      "[2005, 2006, 2007, 2008, 2009, 2010, 2011, 2012, 2013]\n",
      "[198735, 189161, 182115, 170591, 163554, 154414, 151474, 145571, 138660]\n",
      "-7475.48333333\n"
     ]
    },
    {
     "data": {
      "image/png": "[encoded data removed]",
      "text/plain": [
       "<matplotlib.figure.Figure at 0x7f43372c59b0>"
      ]
     },
     "metadata": {},
     "output_type": "display_data"
    }
   ],
   "source": [
    "\n",
    "import matplotlib.pyplot as plt\n",
    "import numpy as np\n",
    "%matplotlib inline\n",
    "\n",
    "year = []\n",
    "freq = []\n",
    "for i in range(2005,2014):\n",
    "    year.append(i)\n",
    "    freq.append(trend_dict[i])\n",
    "print(year)\n",
    "print(freq)\n",
    "\n",
    "slope, intercept = np.polyfit(year,freq, 1)\n",
    "plt.plot(year, freq)\n",
    "print(slope)\n",
    "plt.show()"
   ]
  },
  {
   "cell_type": "code",
   "execution_count": 34,
   "metadata": {},
   "outputs": [
    {
     "data": {
      "text/plain": [
       "'-7475.4833333332'"
      ]
     },
     "execution_count": 34,
     "metadata": {},
     "output_type": "execute_result"
    }
   ],
   "source": [
    "#ans:\n",
    "format(float(slope), '.10f')"
   ]
  },
  {
   "cell_type": "markdown",
   "metadata": {},
   "source": [
    "## QUESTION4\n",
    "Do accidents in high-speed-limit areas have more casualties? Compute the Pearson correlation coefficient between the speed limit and the ratio of the number of casualties to accidents for each speed limit. Bin the data by speed limit. "
   ]
  },
  {
   "cell_type": "code",
   "execution_count": 35,
   "metadata": {},
   "outputs": [
    {
     "data": {
      "text/plain": [
       "array([30, 40, 50, 20, 60, 70, 10, 15])"
      ]
     },
     "execution_count": 35,
     "metadata": {},
     "output_type": "execute_result"
    }
   ],
   "source": [
    "acc_df['Speed_limit'].unique()"
   ]
  },
  {
   "cell_type": "code",
   "execution_count": 36,
   "metadata": {},
   "outputs": [
    {
     "name": "stdout",
     "output_type": "stream",
     "text": [
      "30 1.2693620233045813\n",
      "40 1.4361206947831777\n",
      "50 1.5054084720121028\n",
      "20 1.1758898854854176\n",
      "60 1.515986660690818\n",
      "70 1.5690861445031405\n",
      "10 1.1764705882352942\n",
      "15 1.125\n"
     ]
    }
   ],
   "source": [
    "x_prson = []\n",
    "y_prson = []\n",
    "for i in acc_df['Speed_limit'].unique():\n",
    "    num_caus = acc_df[acc_df['Speed_limit'] == i]['Number_of_Casualties'].sum()\n",
    "#     print(type(num_caus))\n",
    "    num_acc = len(acc_df[acc_df['Speed_limit'] == i])\n",
    "    print(i, float(num_caus/num_acc))\n",
    "    x_prson.append(i)\n",
    "    y_prson.append(float(num_caus/num_acc))"
   ]
  },
  {
   "cell_type": "code",
   "execution_count": 37,
   "metadata": {},
   "outputs": [
    {
     "name": "stdout",
     "output_type": "stream",
     "text": [
      "[30, 40, 50, 20, 60, 70, 10, 15] [1.2693620233045813, 1.4361206947831777, 1.5054084720121028, 1.1758898854854176, 1.515986660690818, 1.5690861445031405, 1.1764705882352942, 1.125]\n"
     ]
    }
   ],
   "source": [
    "print(x_prson, y_prson)"
   ]
  },
  {
   "cell_type": "code",
   "execution_count": 38,
   "metadata": {},
   "outputs": [
    {
     "data": {
      "text/plain": [
       "(0.96593905551148218, 9.6282884369295742e-05)"
      ]
     },
     "execution_count": 38,
     "metadata": {},
     "output_type": "execute_result"
    }
   ],
   "source": [
    "#ans\n",
    "import scipy.stats\n",
    "scipy.stats.pearsonr(x_prson, y_prson)"
   ]
  },
  {
   "cell_type": "markdown",
   "metadata": {},
   "source": [
    "## QUESTION5:\n",
    "How many times more likely are you to be in an accident where you skid, jackknife, or overturn (as opposed to an accident where you don't) when it's raining or snowing compared to nice weather with no high winds? Ignore accidents where the weather is unknown or missing. "
   ]
  },
  {
   "cell_type": "code",
   "execution_count": 39,
   "metadata": {},
   "outputs": [
    {
     "data": {
      "text/plain": [
       "False"
      ]
     },
     "execution_count": 39,
     "metadata": {},
     "output_type": "execute_result"
    }
   ],
   "source": [
    "acc_df['Weather_Conditions'].isnull().values.any()"
   ]
  },
  {
   "cell_type": "code",
   "execution_count": 40,
   "metadata": {},
   "outputs": [
    {
     "data": {
      "text/html": [
       "<div>\n",
       "<table border=\"1\" class=\"dataframe\">\n",
       "  <thead>\n",
       "    <tr style=\"text-align: right;\">\n",
       "      <th></th>\n",
       "      <th>code</th>\n",
       "      <th>label</th>\n",
       "    </tr>\n",
       "  </thead>\n",
       "  <tbody>\n",
       "    <tr>\n",
       "      <th>0</th>\n",
       "      <td>1</td>\n",
       "      <td>Fine no high winds</td>\n",
       "    </tr>\n",
       "    <tr>\n",
       "      <th>1</th>\n",
       "      <td>2</td>\n",
       "      <td>Raining no high winds</td>\n",
       "    </tr>\n",
       "    <tr>\n",
       "      <th>2</th>\n",
       "      <td>3</td>\n",
       "      <td>Snowing no high winds</td>\n",
       "    </tr>\n",
       "    <tr>\n",
       "      <th>3</th>\n",
       "      <td>4</td>\n",
       "      <td>Fine + high winds</td>\n",
       "    </tr>\n",
       "    <tr>\n",
       "      <th>4</th>\n",
       "      <td>5</td>\n",
       "      <td>Raining + high winds</td>\n",
       "    </tr>\n",
       "    <tr>\n",
       "      <th>5</th>\n",
       "      <td>6</td>\n",
       "      <td>Snowing + high winds</td>\n",
       "    </tr>\n",
       "    <tr>\n",
       "      <th>6</th>\n",
       "      <td>7</td>\n",
       "      <td>Fog or mist</td>\n",
       "    </tr>\n",
       "    <tr>\n",
       "      <th>7</th>\n",
       "      <td>8</td>\n",
       "      <td>Other</td>\n",
       "    </tr>\n",
       "    <tr>\n",
       "      <th>8</th>\n",
       "      <td>9</td>\n",
       "      <td>Unknown</td>\n",
       "    </tr>\n",
       "    <tr>\n",
       "      <th>9</th>\n",
       "      <td>-1</td>\n",
       "      <td>Data missing or out of range</td>\n",
       "    </tr>\n",
       "  </tbody>\n",
       "</table>\n",
       "</div>"
      ],
      "text/plain": [
       "   code                         label\n",
       "0     1            Fine no high winds\n",
       "1     2         Raining no high winds\n",
       "2     3         Snowing no high winds\n",
       "3     4             Fine + high winds\n",
       "4     5          Raining + high winds\n",
       "5     6          Snowing + high winds\n",
       "6     7                   Fog or mist\n",
       "7     8                         Other\n",
       "8     9                       Unknown\n",
       "9    -1  Data missing or out of range"
      ]
     },
     "execution_count": 40,
     "metadata": {},
     "output_type": "execute_result"
    }
   ],
   "source": [
    "#label codes\n",
    "label_guidline_df.parse('Weather')"
   ]
  },
  {
   "cell_type": "code",
   "execution_count": 41,
   "metadata": {},
   "outputs": [
    {
     "data": {
      "text/html": [
       "<div>\n",
       "<table border=\"1\" class=\"dataframe\">\n",
       "  <thead>\n",
       "    <tr style=\"text-align: right;\">\n",
       "      <th></th>\n",
       "      <th>code</th>\n",
       "      <th>label</th>\n",
       "    </tr>\n",
       "  </thead>\n",
       "  <tbody>\n",
       "    <tr>\n",
       "      <th>0</th>\n",
       "      <td>0</td>\n",
       "      <td>None</td>\n",
       "    </tr>\n",
       "    <tr>\n",
       "      <th>1</th>\n",
       "      <td>1</td>\n",
       "      <td>Skidded</td>\n",
       "    </tr>\n",
       "    <tr>\n",
       "      <th>2</th>\n",
       "      <td>2</td>\n",
       "      <td>Skidded and overturned</td>\n",
       "    </tr>\n",
       "    <tr>\n",
       "      <th>3</th>\n",
       "      <td>3</td>\n",
       "      <td>Jackknifed</td>\n",
       "    </tr>\n",
       "    <tr>\n",
       "      <th>4</th>\n",
       "      <td>4</td>\n",
       "      <td>Jackknifed and overturned</td>\n",
       "    </tr>\n",
       "    <tr>\n",
       "      <th>5</th>\n",
       "      <td>5</td>\n",
       "      <td>Overturned</td>\n",
       "    </tr>\n",
       "    <tr>\n",
       "      <th>6</th>\n",
       "      <td>-1</td>\n",
       "      <td>Data missing or out of range</td>\n",
       "    </tr>\n",
       "  </tbody>\n",
       "</table>\n",
       "</div>"
      ],
      "text/plain": [
       "   code                         label\n",
       "0     0                          None\n",
       "1     1                       Skidded\n",
       "2     2        Skidded and overturned\n",
       "3     3                    Jackknifed\n",
       "4     4     Jackknifed and overturned\n",
       "5     5                    Overturned\n",
       "6    -1  Data missing or out of range"
      ]
     },
     "execution_count": 41,
     "metadata": {},
     "output_type": "execute_result"
    }
   ],
   "source": [
    "label_guidline_df.parse('Skidding and Overturning')"
   ]
  },
  {
   "cell_type": "code",
   "execution_count": 42,
   "metadata": {},
   "outputs": [
    {
     "data": {
      "text/plain": [
       "array([ 0,  1,  2,  5,  3,  4, -1])"
      ]
     },
     "execution_count": 42,
     "metadata": {},
     "output_type": "execute_result"
    }
   ],
   "source": [
    "veh_df['Skidding_and_Overturning'].unique()"
   ]
  },
  {
   "cell_type": "code",
   "execution_count": 43,
   "metadata": {},
   "outputs": [
    {
     "data": {
      "text/plain": [
       "array([ 2,  1,  9,  3,  8,  4,  5,  7,  6, -1])"
      ]
     },
     "execution_count": 43,
     "metadata": {},
     "output_type": "execute_result"
    }
   ],
   "source": [
    "acc_df['Weather_Conditions'].unique()"
   ]
  },
  {
   "cell_type": "code",
   "execution_count": 44,
   "metadata": {
    "collapsed": true
   },
   "outputs": [],
   "source": [
    "#collecting accident index for the weather conditions:\n",
    "#assumption 'nice weather' means 'Fine' ie code 1\n",
    "indx_acc_for_Fine = acc_df[acc_df['Weather_Conditions'] == 1]['Accident_Index']\n",
    "#http://pandas.pydata.org/pandas-docs/version/0.15.2/indexing.html#boolean-indexing\n",
    "indx_acc_for_rainorsnow = acc_df[(acc_df['Weather_Conditions'] == 2) |(acc_df['Weather_Conditions'] == 3) | \n",
    "                                 (acc_df['Weather_Conditions'] == 5) |(acc_df['Weather_Conditions'] == 6)]['Accident_Index']\n",
    "# indx_acc_for_rainorsnow\n",
    "# acc_df[acc_df['Accident_Index'] == '2014984106914']['Weather_Conditions']"
   ]
  },
  {
   "cell_type": "code",
   "execution_count": 45,
   "metadata": {
    "collapsed": true
   },
   "outputs": [],
   "source": [
    "indx_acc_for_skidoverturn = veh_df[(veh_df['Skidding_and_Overturning'] == 1) | (veh_df['Skidding_and_Overturning'] == 2) |\n",
    "                                  (veh_df['Skidding_and_Overturning'] == 3) |(veh_df['Skidding_and_Overturning'] == 4) |\n",
    "                                  (veh_df['Skidding_and_Overturning'] == 5) ]['Accident_Index']\n",
    "# checking\n",
    "# hun = str(indx_acc_for_skidoverturn.iloc[10])\n",
    "# for i in range(len(indx_acc_for_skidoverturn)):\n",
    "#     if indx_acc_for_skidoverturn.iloc[i] == hun:\n",
    "#         print(i)\n",
    "# veh_df[veh_df['Skidding_and_Overturning'] == -1]['Accident_Index']"
   ]
  },
  {
   "cell_type": "code",
   "execution_count": 46,
   "metadata": {},
   "outputs": [
    {
     "data": {
      "text/plain": [
       "0     200501BS00001\n",
       "5     200501BS00006\n",
       "12    200501BS00015\n",
       "13    200501BS00016\n",
       "25    200501BS00031\n",
       "Name: Accident_Index, dtype: object"
      ]
     },
     "execution_count": 46,
     "metadata": {},
     "output_type": "execute_result"
    }
   ],
   "source": [
    "indx_acc_for_rainorsnow.head()"
   ]
  },
  {
   "cell_type": "code",
   "execution_count": 47,
   "metadata": {
    "collapsed": true
   },
   "outputs": [],
   "source": [
    "skid_fine_weather = indx_acc_for_Fine.isin(indx_acc_for_skidoverturn).value_counts()[1]"
   ]
  },
  {
   "cell_type": "code",
   "execution_count": 48,
   "metadata": {
    "collapsed": true
   },
   "outputs": [],
   "source": [
    "skid_rain_weather = indx_acc_for_rainorsnow.isin(indx_acc_for_skidoverturn).value_counts()[1]"
   ]
  },
  {
   "cell_type": "code",
   "execution_count": 49,
   "metadata": {},
   "outputs": [
    {
     "data": {
      "text/plain": [
       "'0.3101024629'"
      ]
     },
     "execution_count": 49,
     "metadata": {},
     "output_type": "execute_result"
    }
   ],
   "source": [
    "#ans:\n",
    "format(float(skid_rain_weather/skid_fine_weather), '.10f')"
   ]
  },
  {
   "cell_type": "code",
   "execution_count": 50,
   "metadata": {
    "collapsed": true
   },
   "outputs": [],
   "source": [
    "# ls1 = [1,1,1,4,5,6,7,9,9,9]\n",
    "# ls2 = [1,4,5,45,44,7,9,9,9]\n",
    "# count = 0\n",
    "# len(set(ls1) & set(ls2))\n",
    "# s = set(ls1)\n",
    "# s1 = set(ls2)\n",
    "# for i in s1:\n",
    "#     if i in s:\n",
    "#         count +=1\n",
    "# print(count)"
   ]
  },
  {
   "cell_type": "code",
   "execution_count": null,
   "metadata": {
    "collapsed": true,
    "scrolled": true
   },
   "outputs": [],
   "source": []
  },
  {
   "cell_type": "code",
   "execution_count": 51,
   "metadata": {},
   "outputs": [
    {
     "ename": "NameError",
     "evalue": "name 'df' is not defined",
     "output_type": "error",
     "traceback": [
      "\u001b[0;31m---------------------------------------------------------------------------\u001b[0m",
      "\u001b[0;31mNameError\u001b[0m                                 Traceback (most recent call last)",
      "\u001b[0;32m<ipython-input-51-0fe90f8063b0>\u001b[0m in \u001b[0;36m<module>\u001b[0;34m()\u001b[0m\n\u001b[0;32m----> 1\u001b[0;31m \u001b[0mdf\u001b[0m\u001b[0;34m.\u001b[0m\u001b[0mshape\u001b[0m\u001b[0;34m\u001b[0m\u001b[0m\n\u001b[0m",
      "\u001b[0;31mNameError\u001b[0m: name 'df' is not defined"
     ]
    }
   ],
   "source": [
    "df.shape"
   ]
  },
  {
   "cell_type": "markdown",
   "metadata": {},
   "source": [
    "## QUESTION 6:\n",
    "How many times more likely are accidents involving male car drivers to be fatal compared to accidents involving female car drivers? The answer should be the ratio of fatality rates of males to females. Ignore all accidents where the driver wasn't driving a car. "
   ]
  },
  {
   "cell_type": "code",
   "execution_count": null,
   "metadata": {
    "collapsed": true
   },
   "outputs": [],
   "source": [
    "veh_df['Sex_of_Driver'].unique()"
   ]
  },
  {
   "cell_type": "code",
   "execution_count": null,
   "metadata": {
    "collapsed": true
   },
   "outputs": [],
   "source": [
    "label_guidline_df.parse('Sex of Driver')"
   ]
  },
  {
   "cell_type": "code",
   "execution_count": null,
   "metadata": {
    "collapsed": true
   },
   "outputs": [],
   "source": [
    "#male drivers causing fatal accidents\n",
    "male_acc = veh_df[veh_df['Sex_of_Driver'] == 1]['Accident_Index']\n",
    "female_acc = veh_df[veh_df['Sex_of_Driver'] == 2]['Accident_Index']"
   ]
  },
  {
   "cell_type": "code",
   "execution_count": null,
   "metadata": {
    "collapsed": true
   },
   "outputs": [],
   "source": [
    "fatal =acc_df[acc_df['Accident_Severity'] == 1]['Accident_Index']"
   ]
  },
  {
   "cell_type": "code",
   "execution_count": null,
   "metadata": {
    "collapsed": true
   },
   "outputs": [],
   "source": [
    "male_fatal_acc = male_acc.isin(fatal).value_counts()[1]"
   ]
  },
  {
   "cell_type": "code",
   "execution_count": null,
   "metadata": {
    "collapsed": true
   },
   "outputs": [],
   "source": [
    "female_fatal_acc = female_acc.isin(fatal).value_counts()[1]"
   ]
  },
  {
   "cell_type": "code",
   "execution_count": null,
   "metadata": {
    "collapsed": true
   },
   "outputs": [],
   "source": [
    "#ans:\n",
    "format(float(male_fatal_acc/female_fatal_acc), '.10f')"
   ]
  },
  {
   "cell_type": "markdown",
   "metadata": {},
   "source": [
    "## QUESTION7:\n",
    "We can use the accident locations to estimate the areas of the police districts. Represent each as an ellipse with semi-axes given by a single standard deviation of the longitude and latitude. What is the area, in square kilometers, of the largest district measured in this manner?"
   ]
  },
  {
   "cell_type": "markdown",
   "metadata": {},
   "source": [
    "## QUESTION8:\n",
    "How fast do the number of car accidents drop off with age? Only consider car drivers who are legally allowed to drive in the UK (17 years or older). Find the rate at which the number of accidents exponentially decays with age. Age is measured in years. Assume that the number of accidents is exponentially distributed with age for driver's over the age of 17. "
   ]
  },
  {
   "cell_type": "code",
   "execution_count": null,
   "metadata": {
    "collapsed": true
   },
   "outputs": [],
   "source": [
    "label_guidline_df.parse('Age Band')"
   ]
  },
  {
   "cell_type": "code",
   "execution_count": null,
   "metadata": {
    "collapsed": true
   },
   "outputs": [],
   "source": [
    "len(veh_df['Age_of_Driver'].unique())"
   ]
  },
  {
   "cell_type": "code",
   "execution_count": null,
   "metadata": {
    "collapsed": true,
    "scrolled": true
   },
   "outputs": [],
   "source": [
    "age_to_acc_dict={}\n",
    "xdata = []\n",
    "ydata = []\n",
    "for i in range(17, 101):\n",
    "    age_to_acc_dict[i] = len(veh_df[veh_df['Age_of_Driver'] == i])\n",
    "    xdata.append(i)\n",
    "    ydata.append(age_to_acc_dict[i])\n",
    "\n",
    "plt.scatter(xdata,ydata,color='r')\n",
    "# sorted(age_to_acc_dict.items(), key=lambda x:x[1])\n",
    "plt.show()"
   ]
  },
  {
   "cell_type": "code",
   "execution_count": null,
   "metadata": {
    "collapsed": true
   },
   "outputs": [],
   "source": [
    "from scipy.optimize import curve_fit\n",
    "#https://docs.scipy.org/doc/scipy-0.19.1/reference/generated/scipy.optimize.curve_fit.html\n",
    "def func(x, a, b):\n",
    "    return a * np.exp(-b * x)\n",
    "\n",
    "popt, pcov = curve_fit(func, xdata, ydata)\n",
    "print(popt)\n",
    "plt.plot(xdata, func(xdata, *popt), 'r-', label='fit')\n",
    "plt.xlabel('x')\n",
    "plt.ylabel('y')\n",
    "plt.legend()\n",
    "plt.show()"
   ]
  },
  {
   "cell_type": "code",
   "execution_count": null,
   "metadata": {
    "collapsed": true
   },
   "outputs": [],
   "source": [
    "for i in range(17, 101):\n",
    "    print(len(veh_df[veh_df['Age_of_Driver'] == i]))"
   ]
  }
 ],
 "metadata": {
  "kernelspec": {
   "display_name": "Python 3",
   "language": "python",
   "name": "python3"
  },
  "language_info": {
   "codemirror_mode": {
    "name": "ipython",
    "version": 3
   },
   "file_extension": ".py",
   "mimetype": "text/x-python",
   "name": "python",
   "nbconvert_exporter": "python",
   "pygments_lexer": "ipython3",
   "version": "3.5.2"
  }
 },
 "nbformat": 4,
 "nbformat_minor": 2
}
